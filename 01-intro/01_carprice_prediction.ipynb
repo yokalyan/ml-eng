{
 "cells": [
  {
   "cell_type": "code",
   "execution_count": 10,
   "id": "cbc5e0b6-8e65-49dc-93f3-cc16b9ef91a3",
   "metadata": {},
   "outputs": [],
   "source": [
    "import pandas as pd\n",
    "import numpy as np\n",
    "import os"
   ]
  },
  {
   "cell_type": "code",
   "execution_count": 11,
   "id": "9236f42a",
   "metadata": {},
   "outputs": [
    {
     "name": "stdout",
     "output_type": "stream",
     "text": [
      "test the datatest\n",
      "/workspaces/ml-eng/01-intro\n"
     ]
    }
   ],
   "source": [
    "data = 'test'\n",
    "print (\"test the data\" + data)\n",
    "print (os.getcwd())"
   ]
  }
 ],
 "metadata": {
  "kernelspec": {
   "display_name": "base",
   "language": "python",
   "name": "python3"
  },
  "language_info": {
   "codemirror_mode": {
    "name": "ipython",
    "version": 3
   },
   "file_extension": ".py",
   "mimetype": "text/x-python",
   "name": "python",
   "nbconvert_exporter": "python",
   "pygments_lexer": "ipython3",
   "version": "3.12.3"
  }
 },
 "nbformat": 4,
 "nbformat_minor": 5
}
